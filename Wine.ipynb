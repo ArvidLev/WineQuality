{
 "cells": [
  {
   "cell_type": "markdown",
   "id": "afa9451f-8ffa-4515-b0be-f3f38b4ee2fc",
   "metadata": {},
   "source": [
    "# Wine Quality Prediction\n",
    "## EDA"
   ]
  },
  {
   "cell_type": "code",
   "execution_count": 24,
   "id": "a310e040",
   "metadata": {},
   "outputs": [],
   "source": [
    "# First lets import the libraries needed\n",
    "import pandas as pd\n",
    "import numpy as np\n",
    "import matplotlib.pyplot as plt\n",
    "import seaborn as sns\n",
    "from sklearn.model_selection import train_test_split\n",
    "from sklearn.metrics import accuracy_score\n",
    "from sklearn.ensemble import RandomForestClassifier\n",
    "import random\n",
    "import xgboost as xgb\n",
    "from sklearn.model_selection import RandomizedSearchCV"
   ]
  },
  {
   "cell_type": "markdown",
   "id": "03b1d4e1-45f5-4922-997f-760a81ad23d2",
   "metadata": {},
   "source": [
    "Now lets read the data and check that everything worked."
   ]
  },
  {
   "cell_type": "code",
   "execution_count": 25,
   "id": "173a83c5-106d-4770-93b2-b0e23c702e80",
   "metadata": {},
   "outputs": [
    {
     "data": {
      "text/plain": [
       "fixed acidity           float64\n",
       "volatile acidity        float64\n",
       "citric acid             float64\n",
       "residual sugar          float64\n",
       "chlorides               float64\n",
       "free sulfur dioxide     float64\n",
       "total sulfur dioxide    float64\n",
       "density                 float64\n",
       "pH                      float64\n",
       "sulphates               float64\n",
       "alcohol                 float64\n",
       "quality                   int64\n",
       "dtype: object"
      ]
     },
     "execution_count": 25,
     "metadata": {},
     "output_type": "execute_result"
    }
   ],
   "source": [
    "df = pd.read_csv(\"winequality-red.csv\")\n",
    "df.dtypes"
   ]
  },
  {
   "cell_type": "code",
   "execution_count": 26,
   "id": "9c474005-36f5-4f99-a5ec-d5e8d909a934",
   "metadata": {},
   "outputs": [
    {
     "data": {
      "text/html": [
       "<div>\n",
       "<style scoped>\n",
       "    .dataframe tbody tr th:only-of-type {\n",
       "        vertical-align: middle;\n",
       "    }\n",
       "\n",
       "    .dataframe tbody tr th {\n",
       "        vertical-align: top;\n",
       "    }\n",
       "\n",
       "    .dataframe thead th {\n",
       "        text-align: right;\n",
       "    }\n",
       "</style>\n",
       "<table border=\"1\" class=\"dataframe\">\n",
       "  <thead>\n",
       "    <tr style=\"text-align: right;\">\n",
       "      <th></th>\n",
       "      <th>fixed acidity</th>\n",
       "      <th>volatile acidity</th>\n",
       "      <th>citric acid</th>\n",
       "      <th>residual sugar</th>\n",
       "      <th>chlorides</th>\n",
       "      <th>free sulfur dioxide</th>\n",
       "      <th>total sulfur dioxide</th>\n",
       "      <th>density</th>\n",
       "      <th>pH</th>\n",
       "      <th>sulphates</th>\n",
       "      <th>alcohol</th>\n",
       "      <th>quality</th>\n",
       "    </tr>\n",
       "  </thead>\n",
       "  <tbody>\n",
       "    <tr>\n",
       "      <th>count</th>\n",
       "      <td>1599.000000</td>\n",
       "      <td>1599.000000</td>\n",
       "      <td>1599.000000</td>\n",
       "      <td>1599.000000</td>\n",
       "      <td>1599.000000</td>\n",
       "      <td>1599.000000</td>\n",
       "      <td>1599.000000</td>\n",
       "      <td>1599.000000</td>\n",
       "      <td>1599.000000</td>\n",
       "      <td>1599.000000</td>\n",
       "      <td>1599.000000</td>\n",
       "      <td>1599.000000</td>\n",
       "    </tr>\n",
       "    <tr>\n",
       "      <th>mean</th>\n",
       "      <td>8.319637</td>\n",
       "      <td>0.527821</td>\n",
       "      <td>0.270976</td>\n",
       "      <td>2.538806</td>\n",
       "      <td>0.087467</td>\n",
       "      <td>15.874922</td>\n",
       "      <td>46.467792</td>\n",
       "      <td>0.996747</td>\n",
       "      <td>3.311113</td>\n",
       "      <td>0.658149</td>\n",
       "      <td>10.422983</td>\n",
       "      <td>5.636023</td>\n",
       "    </tr>\n",
       "    <tr>\n",
       "      <th>std</th>\n",
       "      <td>1.741096</td>\n",
       "      <td>0.179060</td>\n",
       "      <td>0.194801</td>\n",
       "      <td>1.409928</td>\n",
       "      <td>0.047065</td>\n",
       "      <td>10.460157</td>\n",
       "      <td>32.895324</td>\n",
       "      <td>0.001887</td>\n",
       "      <td>0.154386</td>\n",
       "      <td>0.169507</td>\n",
       "      <td>1.065668</td>\n",
       "      <td>0.807569</td>\n",
       "    </tr>\n",
       "    <tr>\n",
       "      <th>min</th>\n",
       "      <td>4.600000</td>\n",
       "      <td>0.120000</td>\n",
       "      <td>0.000000</td>\n",
       "      <td>0.900000</td>\n",
       "      <td>0.012000</td>\n",
       "      <td>1.000000</td>\n",
       "      <td>6.000000</td>\n",
       "      <td>0.990070</td>\n",
       "      <td>2.740000</td>\n",
       "      <td>0.330000</td>\n",
       "      <td>8.400000</td>\n",
       "      <td>3.000000</td>\n",
       "    </tr>\n",
       "    <tr>\n",
       "      <th>25%</th>\n",
       "      <td>7.100000</td>\n",
       "      <td>0.390000</td>\n",
       "      <td>0.090000</td>\n",
       "      <td>1.900000</td>\n",
       "      <td>0.070000</td>\n",
       "      <td>7.000000</td>\n",
       "      <td>22.000000</td>\n",
       "      <td>0.995600</td>\n",
       "      <td>3.210000</td>\n",
       "      <td>0.550000</td>\n",
       "      <td>9.500000</td>\n",
       "      <td>5.000000</td>\n",
       "    </tr>\n",
       "    <tr>\n",
       "      <th>50%</th>\n",
       "      <td>7.900000</td>\n",
       "      <td>0.520000</td>\n",
       "      <td>0.260000</td>\n",
       "      <td>2.200000</td>\n",
       "      <td>0.079000</td>\n",
       "      <td>14.000000</td>\n",
       "      <td>38.000000</td>\n",
       "      <td>0.996750</td>\n",
       "      <td>3.310000</td>\n",
       "      <td>0.620000</td>\n",
       "      <td>10.200000</td>\n",
       "      <td>6.000000</td>\n",
       "    </tr>\n",
       "    <tr>\n",
       "      <th>75%</th>\n",
       "      <td>9.200000</td>\n",
       "      <td>0.640000</td>\n",
       "      <td>0.420000</td>\n",
       "      <td>2.600000</td>\n",
       "      <td>0.090000</td>\n",
       "      <td>21.000000</td>\n",
       "      <td>62.000000</td>\n",
       "      <td>0.997835</td>\n",
       "      <td>3.400000</td>\n",
       "      <td>0.730000</td>\n",
       "      <td>11.100000</td>\n",
       "      <td>6.000000</td>\n",
       "    </tr>\n",
       "    <tr>\n",
       "      <th>max</th>\n",
       "      <td>15.900000</td>\n",
       "      <td>1.580000</td>\n",
       "      <td>1.000000</td>\n",
       "      <td>15.500000</td>\n",
       "      <td>0.611000</td>\n",
       "      <td>72.000000</td>\n",
       "      <td>289.000000</td>\n",
       "      <td>1.003690</td>\n",
       "      <td>4.010000</td>\n",
       "      <td>2.000000</td>\n",
       "      <td>14.900000</td>\n",
       "      <td>8.000000</td>\n",
       "    </tr>\n",
       "  </tbody>\n",
       "</table>\n",
       "</div>"
      ],
      "text/plain": [
       "       fixed acidity  volatile acidity  citric acid  residual sugar  \\\n",
       "count    1599.000000       1599.000000  1599.000000     1599.000000   \n",
       "mean        8.319637          0.527821     0.270976        2.538806   \n",
       "std         1.741096          0.179060     0.194801        1.409928   \n",
       "min         4.600000          0.120000     0.000000        0.900000   \n",
       "25%         7.100000          0.390000     0.090000        1.900000   \n",
       "50%         7.900000          0.520000     0.260000        2.200000   \n",
       "75%         9.200000          0.640000     0.420000        2.600000   \n",
       "max        15.900000          1.580000     1.000000       15.500000   \n",
       "\n",
       "         chlorides  free sulfur dioxide  total sulfur dioxide      density  \\\n",
       "count  1599.000000          1599.000000           1599.000000  1599.000000   \n",
       "mean      0.087467            15.874922             46.467792     0.996747   \n",
       "std       0.047065            10.460157             32.895324     0.001887   \n",
       "min       0.012000             1.000000              6.000000     0.990070   \n",
       "25%       0.070000             7.000000             22.000000     0.995600   \n",
       "50%       0.079000            14.000000             38.000000     0.996750   \n",
       "75%       0.090000            21.000000             62.000000     0.997835   \n",
       "max       0.611000            72.000000            289.000000     1.003690   \n",
       "\n",
       "                pH    sulphates      alcohol      quality  \n",
       "count  1599.000000  1599.000000  1599.000000  1599.000000  \n",
       "mean      3.311113     0.658149    10.422983     5.636023  \n",
       "std       0.154386     0.169507     1.065668     0.807569  \n",
       "min       2.740000     0.330000     8.400000     3.000000  \n",
       "25%       3.210000     0.550000     9.500000     5.000000  \n",
       "50%       3.310000     0.620000    10.200000     6.000000  \n",
       "75%       3.400000     0.730000    11.100000     6.000000  \n",
       "max       4.010000     2.000000    14.900000     8.000000  "
      ]
     },
     "execution_count": 26,
     "metadata": {},
     "output_type": "execute_result"
    }
   ],
   "source": [
    "df.describe()"
   ]
  },
  {
   "cell_type": "markdown",
   "id": "a269072e-dfbc-4d38-a130-c826ce2b9330",
   "metadata": {},
   "source": [
    "Check for missing values"
   ]
  },
  {
   "cell_type": "code",
   "execution_count": 27,
   "id": "95fb5ade-1281-46cd-b116-867a52a9eb63",
   "metadata": {},
   "outputs": [
    {
     "data": {
      "text/plain": [
       "fixed acidity           0\n",
       "volatile acidity        0\n",
       "citric acid             0\n",
       "residual sugar          0\n",
       "chlorides               0\n",
       "free sulfur dioxide     0\n",
       "total sulfur dioxide    0\n",
       "density                 0\n",
       "pH                      0\n",
       "sulphates               0\n",
       "alcohol                 0\n",
       "quality                 0\n",
       "dtype: int64"
      ]
     },
     "execution_count": 27,
     "metadata": {},
     "output_type": "execute_result"
    }
   ],
   "source": [
    "df.isnull().sum()"
   ]
  },
  {
   "cell_type": "markdown",
   "id": "ec130043-468f-4daf-895b-3d897221f422",
   "metadata": {},
   "source": [
    "# EDA\n",
    "First lets see how the different quality wine is distributed"
   ]
  },
  {
   "cell_type": "code",
   "execution_count": 28,
   "id": "71606eb1-beb6-47b4-93bb-6f9dc1ee2ea8",
   "metadata": {},
   "outputs": [
    {
     "data": {
      "text/plain": [
       "<seaborn.axisgrid.FacetGrid at 0x2431d4fa310>"
      ]
     },
     "execution_count": 28,
     "metadata": {},
     "output_type": "execute_result"
    },
    {
     "data": {
      "image/png": "[encoded data removed]",
      "text/plain": [
       "<Figure size 360x360 with 1 Axes>"
      ]
     },
     "metadata": {
      "needs_background": "light"
     },
     "output_type": "display_data"
    }
   ],
   "source": [
    "sns.catplot(x = 'quality', kind = 'count', data = df)"
   ]
  },
  {
   "cell_type": "code",
   "execution_count": 29,
   "id": "76e0dc20-feea-4839-b403-6a01e689fcf4",
   "metadata": {},
   "outputs": [
    {
     "data": {
      "text/plain": [
       "quality\n",
       "3     10\n",
       "4     53\n",
       "5    681\n",
       "6    638\n",
       "7    199\n",
       "8     18\n",
       "dtype: int64"
      ]
     },
     "execution_count": 29,
     "metadata": {},
     "output_type": "execute_result"
    }
   ],
   "source": [
    "df.groupby('quality').size()"
   ]
  },
  {
   "cell_type": "markdown",
   "id": "7b270878-bdb1-429b-874c-d5f8e8231d82",
   "metadata": {},
   "source": [
    "Here we are seeing a problem where the wines of quality 5 and 6 are very overrepresented and that will mess with our data analysis.\\\n",
    "We can't possible get an accurate model for predicting wines of quality 3 when we only have 10 samples. \\\n",
    "So instead lets bin the quality into 2 groups, good quality and bad quality."
   ]
  },
  {
   "cell_type": "code",
   "execution_count": 30,
   "id": "f569767a-24fe-47f0-b292-a7c6b0df1838",
   "metadata": {},
   "outputs": [],
   "source": [
    "df['quality'] = df['quality'].apply(lambda quality: 1 if quality >= 6 else 0)"
   ]
  },
  {
   "cell_type": "code",
   "execution_count": 31,
   "id": "859c7ed2-0150-469c-934b-12db395da3ce",
   "metadata": {},
   "outputs": [
    {
     "data": {
      "text/plain": [
       "<seaborn.axisgrid.FacetGrid at 0x2431b956e20>"
      ]
     },
     "execution_count": 31,
     "metadata": {},
     "output_type": "execute_result"
    },
    {
     "data": {
      "image/png": "[encoded data removed]",
      "text/plain": [
       "<Figure size 360x360 with 1 Axes>"
      ]
     },
     "metadata": {
      "needs_background": "light"
     },
     "output_type": "display_data"
    }
   ],
   "source": [
    "sns.catplot(x = 'quality', kind = 'count', data = df)"
   ]
  },
  {
   "cell_type": "markdown",
   "id": "67955409-3d0b-4f27-9933-faa78f2c2b00",
   "metadata": {},
   "source": [
    "Now when our target variable is looking good we can start looking at our predictor variables."
   ]
  },
  {
   "cell_type": "code",
   "execution_count": 32,
   "id": "45520c9f-fca5-4000-83f6-d6b67a1c9a63",
   "metadata": {},
   "outputs": [
    {
     "data": {
      "text/plain": [
       "<AxesSubplot:>"
      ]
     },
     "execution_count": 32,
     "metadata": {},
     "output_type": "execute_result"
    },
    {
     "data": {
      "image/png": "[encoded data removed]",
      "text/plain": [
       "<Figure size 576x576 with 2 Axes>"
      ]
     },
     "metadata": {
      "needs_background": "light"
     },
     "output_type": "display_data"
    }
   ],
   "source": [
    "corr = df.corr()\n",
    "plt.figure(figsize = (8,8))\n",
    "sns.heatmap(corr, \n",
    "            cbar = True,\n",
    "            square = True,\n",
    "            fmt = '.1f',\n",
    "            annot = True,\n",
    "            cmap = sns.diverging_palette(20, 220, n = 200))"
   ]
  },
  {
   "cell_type": "markdown",
   "id": "45d7e0ea-d559-4057-b7e4-743a70c9b194",
   "metadata": {},
   "source": [
    "Looking at quality row of the correlation plot we can see that alcohol and volatile acidity seems to be correlated the most with quality. \\\n",
    "Lets plot them against quality."
   ]
  },
  {
   "cell_type": "code",
   "execution_count": 33,
   "id": "0554fc5c-e3d5-4981-837d-5505e7c06b78",
   "metadata": {},
   "outputs": [
    {
     "data": {
      "text/plain": [
       "Text(0.5, 1.0, 'Alcohol vs Quality')"
      ]
     },
     "execution_count": 33,
     "metadata": {},
     "output_type": "execute_result"
    },
    {
     "data": {
      "image/png": "[encoded data removed]",
      "text/plain": [
       "<Figure size 432x288 with 1 Axes>"
      ]
     },
     "metadata": {
      "needs_background": "light"
     },
     "output_type": "display_data"
    }
   ],
   "source": [
    "sns.boxplot(x = 'quality', y = 'alcohol', data = df).set_title(\"Alcohol vs Quality\")"
   ]
  },
  {
   "cell_type": "code",
   "execution_count": 34,
   "id": "3b183ace-d74c-49a4-80d9-48da7b3fef1c",
   "metadata": {},
   "outputs": [
    {
     "data": {
      "text/plain": [
       "Text(0.5, 1.0, 'Volatile Acidity vs Quality')"
      ]
     },
     "execution_count": 34,
     "metadata": {},
     "output_type": "execute_result"
    },
    {
     "data": {
      "image/png": "[encoded data removed]",
      "text/plain": [
       "<Figure size 432x288 with 1 Axes>"
      ]
     },
     "metadata": {
      "needs_background": "light"
     },
     "output_type": "display_data"
    }
   ],
   "source": [
    "sns.boxplot(x = 'quality', y = 'volatile acidity', data = df).set_title(\"Volatile Acidity vs Quality\")"
   ]
  },
  {
   "cell_type": "markdown",
   "id": "f3d86d7b-4a63-4f7a-ab17-2604429c329b",
   "metadata": {},
   "source": [
    "Here I am tempted to remove the outliers from the alcohol and volatile acidity since there seem to be quite a few.\\\n",
    "Also the correlation between the target variable and the predictor variables found earlier was quite small and removing the outliers should increase the correlation in this case. \\\n",
    "So, lets remove them. \\\n",
    "First we split by  group and then we remove outliers from each group."
   ]
  },
  {
   "cell_type": "code",
   "execution_count": 35,
   "id": "63b6e494-3bc4-42fd-a782-eb7becf213d1",
   "metadata": {},
   "outputs": [],
   "source": [
    "df1, df2 = [x for _, x in df.groupby('quality')]"
   ]
  },
  {
   "cell_type": "markdown",
   "id": "c5114052-47c7-43d9-994d-0ca9401d8dee",
   "metadata": {},
   "source": [
    "While there are packages that can calculate the outlier cutoff for us lets instead do it by hand.\\\n",
    "Using a boxplot definition of outliers we make the cutoff Q1/Q3 -/+ 1.5*IQR."
   ]
  },
  {
   "cell_type": "code",
   "execution_count": 36,
   "id": "84e77479-d5dc-460d-85f1-018eaf8bf32d",
   "metadata": {},
   "outputs": [
    {
     "name": "stdout",
     "output_type": "stream",
     "text": [
      "11.650000000000002 8.05\n"
     ]
    }
   ],
   "source": [
    "df1 = df1.sort_values('alcohol')\n",
    "median = int(len(df1.index) / 2)\n",
    "Q3 = df1['alcohol'][median:].median()\n",
    "Q1 = df1['alcohol'][:median].median()\n",
    "IQR = Q3 - Q1\n",
    "upper_limit = Q3 + 1.5*IQR\n",
    "lower_limit = Q1 - 1.5*IQR\n",
    "print(upper_limit, lower_limit)"
   ]
  },
  {
   "cell_type": "code",
   "execution_count": 37,
   "id": "ca95d14a-4b90-45ef-9ce2-335ea0042079",
   "metadata": {},
   "outputs": [],
   "source": [
    "df1 = df1[df1['alcohol'] < upper_limit]\n",
    "df1 = df1[df1['alcohol'] > lower_limit]"
   ]
  },
  {
   "cell_type": "code",
   "execution_count": 38,
   "id": "bf48cad1-20bc-4599-8de7-395934e6cdc6",
   "metadata": {},
   "outputs": [
    {
     "name": "stdout",
     "output_type": "stream",
     "text": [
      "1.0162500000000003 0.12624999999999992\n"
     ]
    },
    {
     "data": {
      "text/html": [
       "<div>\n",
       "<style scoped>\n",
       "    .dataframe tbody tr th:only-of-type {\n",
       "        vertical-align: middle;\n",
       "    }\n",
       "\n",
       "    .dataframe tbody tr th {\n",
       "        vertical-align: top;\n",
       "    }\n",
       "\n",
       "    .dataframe thead th {\n",
       "        text-align: right;\n",
       "    }\n",
       "</style>\n",
       "<table border=\"1\" class=\"dataframe\">\n",
       "  <thead>\n",
       "    <tr style=\"text-align: right;\">\n",
       "      <th></th>\n",
       "      <th>fixed acidity</th>\n",
       "      <th>volatile acidity</th>\n",
       "      <th>citric acid</th>\n",
       "      <th>residual sugar</th>\n",
       "      <th>chlorides</th>\n",
       "      <th>free sulfur dioxide</th>\n",
       "      <th>total sulfur dioxide</th>\n",
       "      <th>density</th>\n",
       "      <th>pH</th>\n",
       "      <th>sulphates</th>\n",
       "      <th>alcohol</th>\n",
       "      <th>quality</th>\n",
       "    </tr>\n",
       "  </thead>\n",
       "  <tbody>\n",
       "    <tr>\n",
       "      <th>count</th>\n",
       "      <td>707.000000</td>\n",
       "      <td>707.000000</td>\n",
       "      <td>707.000000</td>\n",
       "      <td>707.000000</td>\n",
       "      <td>707.000000</td>\n",
       "      <td>707.000000</td>\n",
       "      <td>707.000000</td>\n",
       "      <td>707.000000</td>\n",
       "      <td>707.000000</td>\n",
       "      <td>707.000000</td>\n",
       "      <td>707.000000</td>\n",
       "      <td>707.0</td>\n",
       "    </tr>\n",
       "    <tr>\n",
       "      <th>mean</th>\n",
       "      <td>8.175955</td>\n",
       "      <td>0.577044</td>\n",
       "      <td>0.241528</td>\n",
       "      <td>2.522914</td>\n",
       "      <td>0.093849</td>\n",
       "      <td>16.763791</td>\n",
       "      <td>55.349364</td>\n",
       "      <td>0.997161</td>\n",
       "      <td>3.303946</td>\n",
       "      <td>0.622051</td>\n",
       "      <td>9.837129</td>\n",
       "      <td>0.0</td>\n",
       "    </tr>\n",
       "    <tr>\n",
       "      <th>std</th>\n",
       "      <td>1.519109</td>\n",
       "      <td>0.157105</td>\n",
       "      <td>0.181781</td>\n",
       "      <td>1.378204</td>\n",
       "      <td>0.056651</td>\n",
       "      <td>10.957784</td>\n",
       "      <td>36.701425</td>\n",
       "      <td>0.001512</td>\n",
       "      <td>0.148175</td>\n",
       "      <td>0.178878</td>\n",
       "      <td>0.606904</td>\n",
       "      <td>0.0</td>\n",
       "    </tr>\n",
       "    <tr>\n",
       "      <th>min</th>\n",
       "      <td>5.200000</td>\n",
       "      <td>0.180000</td>\n",
       "      <td>0.000000</td>\n",
       "      <td>1.200000</td>\n",
       "      <td>0.039000</td>\n",
       "      <td>3.000000</td>\n",
       "      <td>6.000000</td>\n",
       "      <td>0.993360</td>\n",
       "      <td>2.740000</td>\n",
       "      <td>0.330000</td>\n",
       "      <td>8.400000</td>\n",
       "      <td>0.0</td>\n",
       "    </tr>\n",
       "    <tr>\n",
       "      <th>25%</th>\n",
       "      <td>7.100000</td>\n",
       "      <td>0.460000</td>\n",
       "      <td>0.080000</td>\n",
       "      <td>1.900000</td>\n",
       "      <td>0.074000</td>\n",
       "      <td>8.000000</td>\n",
       "      <td>25.000000</td>\n",
       "      <td>0.996200</td>\n",
       "      <td>3.200000</td>\n",
       "      <td>0.525000</td>\n",
       "      <td>9.400000</td>\n",
       "      <td>0.0</td>\n",
       "    </tr>\n",
       "    <tr>\n",
       "      <th>50%</th>\n",
       "      <td>7.800000</td>\n",
       "      <td>0.590000</td>\n",
       "      <td>0.230000</td>\n",
       "      <td>2.200000</td>\n",
       "      <td>0.081000</td>\n",
       "      <td>15.000000</td>\n",
       "      <td>47.000000</td>\n",
       "      <td>0.997000</td>\n",
       "      <td>3.300000</td>\n",
       "      <td>0.580000</td>\n",
       "      <td>9.600000</td>\n",
       "      <td>0.0</td>\n",
       "    </tr>\n",
       "    <tr>\n",
       "      <th>75%</th>\n",
       "      <td>8.900000</td>\n",
       "      <td>0.670000</td>\n",
       "      <td>0.360000</td>\n",
       "      <td>2.600000</td>\n",
       "      <td>0.094000</td>\n",
       "      <td>23.000000</td>\n",
       "      <td>78.500000</td>\n",
       "      <td>0.997935</td>\n",
       "      <td>3.390000</td>\n",
       "      <td>0.660000</td>\n",
       "      <td>10.200000</td>\n",
       "      <td>0.0</td>\n",
       "    </tr>\n",
       "    <tr>\n",
       "      <th>max</th>\n",
       "      <td>15.600000</td>\n",
       "      <td>1.005000</td>\n",
       "      <td>1.000000</td>\n",
       "      <td>15.500000</td>\n",
       "      <td>0.611000</td>\n",
       "      <td>68.000000</td>\n",
       "      <td>155.000000</td>\n",
       "      <td>1.003150</td>\n",
       "      <td>3.720000</td>\n",
       "      <td>2.000000</td>\n",
       "      <td>11.600000</td>\n",
       "      <td>0.0</td>\n",
       "    </tr>\n",
       "  </tbody>\n",
       "</table>\n",
       "</div>"
      ],
      "text/plain": [
       "       fixed acidity  volatile acidity  citric acid  residual sugar  \\\n",
       "count     707.000000        707.000000   707.000000      707.000000   \n",
       "mean        8.175955          0.577044     0.241528        2.522914   \n",
       "std         1.519109          0.157105     0.181781        1.378204   \n",
       "min         5.200000          0.180000     0.000000        1.200000   \n",
       "25%         7.100000          0.460000     0.080000        1.900000   \n",
       "50%         7.800000          0.590000     0.230000        2.200000   \n",
       "75%         8.900000          0.670000     0.360000        2.600000   \n",
       "max        15.600000          1.005000     1.000000       15.500000   \n",
       "\n",
       "        chlorides  free sulfur dioxide  total sulfur dioxide     density  \\\n",
       "count  707.000000           707.000000            707.000000  707.000000   \n",
       "mean     0.093849            16.763791             55.349364    0.997161   \n",
       "std      0.056651            10.957784             36.701425    0.001512   \n",
       "min      0.039000             3.000000              6.000000    0.993360   \n",
       "25%      0.074000             8.000000             25.000000    0.996200   \n",
       "50%      0.081000            15.000000             47.000000    0.997000   \n",
       "75%      0.094000            23.000000             78.500000    0.997935   \n",
       "max      0.611000            68.000000            155.000000    1.003150   \n",
       "\n",
       "               pH   sulphates     alcohol  quality  \n",
       "count  707.000000  707.000000  707.000000    707.0  \n",
       "mean     3.303946    0.622051    9.837129      0.0  \n",
       "std      0.148175    0.178878    0.606904      0.0  \n",
       "min      2.740000    0.330000    8.400000      0.0  \n",
       "25%      3.200000    0.525000    9.400000      0.0  \n",
       "50%      3.300000    0.580000    9.600000      0.0  \n",
       "75%      3.390000    0.660000   10.200000      0.0  \n",
       "max      3.720000    2.000000   11.600000      0.0  "
      ]
     },
     "execution_count": 38,
     "metadata": {},
     "output_type": "execute_result"
    }
   ],
   "source": [
    "df1 = df1.sort_values('volatile acidity')\n",
    "median = int(len(df1.index) / 2)\n",
    "Q3 = df1['volatile acidity'][median:].median()\n",
    "Q1 = df1['volatile acidity'][:median].median()\n",
    "IQR = Q3 - Q1\n",
    "upper_limit = Q3 + 1.5*IQR\n",
    "lower_limit = Q1 - 1.5*IQR\n",
    "print(upper_limit, lower_limit)\n",
    "df1 = df1[df1['volatile acidity'] < upper_limit]\n",
    "df1 = df1[df1['volatile acidity'] > lower_limit]\n",
    "df1.describe()"
   ]
  },
  {
   "cell_type": "code",
   "execution_count": 39,
   "id": "5e5999e4-658e-4b4c-a3a2-d771df49d96b",
   "metadata": {},
   "outputs": [
    {
     "name": "stdout",
     "output_type": "stream",
     "text": [
      "14.249999999999998 7.450000000000001\n",
      "0.9249999999999999 0.0050000000000000044\n"
     ]
    },
    {
     "data": {
      "text/html": [
       "<div>\n",
       "<style scoped>\n",
       "    .dataframe tbody tr th:only-of-type {\n",
       "        vertical-align: middle;\n",
       "    }\n",
       "\n",
       "    .dataframe tbody tr th {\n",
       "        vertical-align: top;\n",
       "    }\n",
       "\n",
       "    .dataframe thead th {\n",
       "        text-align: right;\n",
       "    }\n",
       "</style>\n",
       "<table border=\"1\" class=\"dataframe\">\n",
       "  <thead>\n",
       "    <tr style=\"text-align: right;\">\n",
       "      <th></th>\n",
       "      <th>fixed acidity</th>\n",
       "      <th>volatile acidity</th>\n",
       "      <th>citric acid</th>\n",
       "      <th>residual sugar</th>\n",
       "      <th>chlorides</th>\n",
       "      <th>free sulfur dioxide</th>\n",
       "      <th>total sulfur dioxide</th>\n",
       "      <th>density</th>\n",
       "      <th>pH</th>\n",
       "      <th>sulphates</th>\n",
       "      <th>alcohol</th>\n",
       "      <th>quality</th>\n",
       "    </tr>\n",
       "  </thead>\n",
       "  <tbody>\n",
       "    <tr>\n",
       "      <th>count</th>\n",
       "      <td>848.000000</td>\n",
       "      <td>848.000000</td>\n",
       "      <td>848.00000</td>\n",
       "      <td>848.00000</td>\n",
       "      <td>848.000000</td>\n",
       "      <td>848.000000</td>\n",
       "      <td>848.000000</td>\n",
       "      <td>848.000000</td>\n",
       "      <td>848.000000</td>\n",
       "      <td>848.000000</td>\n",
       "      <td>848.000000</td>\n",
       "      <td>848.0</td>\n",
       "    </tr>\n",
       "    <tr>\n",
       "      <th>mean</th>\n",
       "      <td>8.480778</td>\n",
       "      <td>0.469794</td>\n",
       "      <td>0.30079</td>\n",
       "      <td>2.53862</td>\n",
       "      <td>0.082791</td>\n",
       "      <td>15.294811</td>\n",
       "      <td>39.290094</td>\n",
       "      <td>0.996473</td>\n",
       "      <td>3.310024</td>\n",
       "      <td>0.693950</td>\n",
       "      <td>10.859021</td>\n",
       "      <td>1.0</td>\n",
       "    </tr>\n",
       "    <tr>\n",
       "      <th>std</th>\n",
       "      <td>1.864019</td>\n",
       "      <td>0.155368</td>\n",
       "      <td>0.19932</td>\n",
       "      <td>1.43010</td>\n",
       "      <td>0.037361</td>\n",
       "      <td>10.058641</td>\n",
       "      <td>27.248055</td>\n",
       "      <td>0.002069</td>\n",
       "      <td>0.154032</td>\n",
       "      <td>0.155426</td>\n",
       "      <td>1.105340</td>\n",
       "      <td>0.0</td>\n",
       "    </tr>\n",
       "    <tr>\n",
       "      <th>min</th>\n",
       "      <td>4.700000</td>\n",
       "      <td>0.120000</td>\n",
       "      <td>0.00000</td>\n",
       "      <td>0.90000</td>\n",
       "      <td>0.012000</td>\n",
       "      <td>1.000000</td>\n",
       "      <td>6.000000</td>\n",
       "      <td>0.990070</td>\n",
       "      <td>2.860000</td>\n",
       "      <td>0.390000</td>\n",
       "      <td>8.400000</td>\n",
       "      <td>1.0</td>\n",
       "    </tr>\n",
       "    <tr>\n",
       "      <th>25%</th>\n",
       "      <td>7.100000</td>\n",
       "      <td>0.350000</td>\n",
       "      <td>0.12000</td>\n",
       "      <td>1.90000</td>\n",
       "      <td>0.067000</td>\n",
       "      <td>7.000000</td>\n",
       "      <td>20.000000</td>\n",
       "      <td>0.995197</td>\n",
       "      <td>3.210000</td>\n",
       "      <td>0.590000</td>\n",
       "      <td>10.000000</td>\n",
       "      <td>1.0</td>\n",
       "    </tr>\n",
       "    <tr>\n",
       "      <th>50%</th>\n",
       "      <td>8.000000</td>\n",
       "      <td>0.460000</td>\n",
       "      <td>0.31000</td>\n",
       "      <td>2.20000</td>\n",
       "      <td>0.077000</td>\n",
       "      <td>13.000000</td>\n",
       "      <td>33.000000</td>\n",
       "      <td>0.996400</td>\n",
       "      <td>3.310000</td>\n",
       "      <td>0.660000</td>\n",
       "      <td>10.800000</td>\n",
       "      <td>1.0</td>\n",
       "    </tr>\n",
       "    <tr>\n",
       "      <th>75%</th>\n",
       "      <td>9.700000</td>\n",
       "      <td>0.580000</td>\n",
       "      <td>0.46000</td>\n",
       "      <td>2.60000</td>\n",
       "      <td>0.088000</td>\n",
       "      <td>21.000000</td>\n",
       "      <td>50.000000</td>\n",
       "      <td>0.997692</td>\n",
       "      <td>3.400000</td>\n",
       "      <td>0.770000</td>\n",
       "      <td>11.700000</td>\n",
       "      <td>1.0</td>\n",
       "    </tr>\n",
       "    <tr>\n",
       "      <th>max</th>\n",
       "      <td>15.600000</td>\n",
       "      <td>0.915000</td>\n",
       "      <td>0.78000</td>\n",
       "      <td>15.40000</td>\n",
       "      <td>0.415000</td>\n",
       "      <td>72.000000</td>\n",
       "      <td>289.000000</td>\n",
       "      <td>1.003690</td>\n",
       "      <td>4.010000</td>\n",
       "      <td>1.950000</td>\n",
       "      <td>14.000000</td>\n",
       "      <td>1.0</td>\n",
       "    </tr>\n",
       "  </tbody>\n",
       "</table>\n",
       "</div>"
      ],
      "text/plain": [
       "       fixed acidity  volatile acidity  citric acid  residual sugar  \\\n",
       "count     848.000000        848.000000    848.00000       848.00000   \n",
       "mean        8.480778          0.469794      0.30079         2.53862   \n",
       "std         1.864019          0.155368      0.19932         1.43010   \n",
       "min         4.700000          0.120000      0.00000         0.90000   \n",
       "25%         7.100000          0.350000      0.12000         1.90000   \n",
       "50%         8.000000          0.460000      0.31000         2.20000   \n",
       "75%         9.700000          0.580000      0.46000         2.60000   \n",
       "max        15.600000          0.915000      0.78000        15.40000   \n",
       "\n",
       "        chlorides  free sulfur dioxide  total sulfur dioxide     density  \\\n",
       "count  848.000000           848.000000            848.000000  848.000000   \n",
       "mean     0.082791            15.294811             39.290094    0.996473   \n",
       "std      0.037361            10.058641             27.248055    0.002069   \n",
       "min      0.012000             1.000000              6.000000    0.990070   \n",
       "25%      0.067000             7.000000             20.000000    0.995197   \n",
       "50%      0.077000            13.000000             33.000000    0.996400   \n",
       "75%      0.088000            21.000000             50.000000    0.997692   \n",
       "max      0.415000            72.000000            289.000000    1.003690   \n",
       "\n",
       "               pH   sulphates     alcohol  quality  \n",
       "count  848.000000  848.000000  848.000000    848.0  \n",
       "mean     3.310024    0.693950   10.859021      1.0  \n",
       "std      0.154032    0.155426    1.105340      0.0  \n",
       "min      2.860000    0.390000    8.400000      1.0  \n",
       "25%      3.210000    0.590000   10.000000      1.0  \n",
       "50%      3.310000    0.660000   10.800000      1.0  \n",
       "75%      3.400000    0.770000   11.700000      1.0  \n",
       "max      4.010000    1.950000   14.000000      1.0  "
      ]
     },
     "execution_count": 39,
     "metadata": {},
     "output_type": "execute_result"
    }
   ],
   "source": [
    "df2 = df2.sort_values('alcohol')\n",
    "median = int(len(df2.index) / 2)\n",
    "Q3 = df2['alcohol'][median:].median()\n",
    "Q1 = df2['alcohol'][:median].median()\n",
    "IQR = Q3 - Q1\n",
    "upper_limit = Q3 + 1.5*IQR\n",
    "lower_limit = Q1 - 1.5*IQR\n",
    "print(upper_limit, lower_limit)\n",
    "df2 = df2[df2['alcohol'] < upper_limit]\n",
    "df2 = df2[df2['alcohol'] > lower_limit]\n",
    "\n",
    "df2 = df2.sort_values('volatile acidity')\n",
    "median = int(len(df2.index) / 2)\n",
    "Q3 = df2['volatile acidity'][median:].median()\n",
    "Q1 = df2['volatile acidity'][:median].median()\n",
    "IQR = Q3 - Q1\n",
    "upper_limit = Q3 + 1.5*IQR\n",
    "lower_limit = Q1 - 1.5*IQR\n",
    "print(upper_limit, lower_limit)\n",
    "df2 = df2[df2['volatile acidity'] < upper_limit]\n",
    "df2 = df2[df2['volatile acidity'] > lower_limit]\n",
    "df2.describe()"
   ]
  },
  {
   "cell_type": "code",
   "execution_count": 40,
   "id": "2b625384-f890-41ef-993c-9b474429c201",
   "metadata": {},
   "outputs": [],
   "source": [
    " df_new = pd.concat([df1,df2])"
   ]
  },
  {
   "cell_type": "markdown",
   "id": "df99101d-dad3-47a4-ab8b-97ba84e812df",
   "metadata": {},
   "source": [
    " If we look at our boxplots now we should see thatmost outliers are gone."
   ]
  },
  {
   "cell_type": "code",
   "execution_count": 41,
   "id": "d3232661-2351-4ab9-916c-1638a2205c32",
   "metadata": {},
   "outputs": [
    {
     "data": {
      "text/plain": [
       "Text(0.5, 1.0, 'Alcohol vs Quality')"
      ]
     },
     "execution_count": 41,
     "metadata": {},
     "output_type": "execute_result"
    },
    {
     "data": {
      "image/png": "[encoded data removed]",
      "text/plain": [
       "<Figure size 432x288 with 1 Axes>"
      ]
     },
     "metadata": {
      "needs_background": "light"
     },
     "output_type": "display_data"
    }
   ],
   "source": [
    "sns.boxplot(x = 'quality', y = 'alcohol', data = df_new).set_title(\"Alcohol vs Quality\")"
   ]
  },
  {
   "cell_type": "code",
   "execution_count": 42,
   "id": "19802786-c5db-4e08-b8e6-ecea4cf1800f",
   "metadata": {},
   "outputs": [
    {
     "data": {
      "text/plain": [
       "Text(0.5, 1.0, 'Volatile Acidity vs Quality')"
      ]
     },
     "execution_count": 42,
     "metadata": {},
     "output_type": "execute_result"
    },
    {
     "data": {
      "image/png": "[encoded data removed]",
      "text/plain": [
       "<Figure size 432x288 with 1 Axes>"
      ]
     },
     "metadata": {
      "needs_background": "light"
     },
     "output_type": "display_data"
    }
   ],
   "source": [
    "sns.boxplot(x = 'quality', y = 'volatile acidity', data = df_new).set_title(\"Volatile Acidity vs Quality\")"
   ]
  },
  {
   "cell_type": "markdown",
   "id": "4d4f7629-386a-456d-95c9-5f54df45affe",
   "metadata": {},
   "source": [
    "Looks good."
   ]
  },
  {
   "cell_type": "code",
   "execution_count": 43,
   "id": "2dc78724-fafe-4ded-aefb-7129fba134ee",
   "metadata": {},
   "outputs": [
    {
     "name": "stdout",
     "output_type": "stream",
     "text": [
      "Old length of data frame was  1599 \n",
      " New length is  1555\n"
     ]
    }
   ],
   "source": [
    "print(\"Old length of data frame was \", len(df.index),'\\n',\n",
    "      \"New length is \", len(df_new.index))"
   ]
  },
  {
   "cell_type": "markdown",
   "id": "edff1fb6-796f-4a2c-a229-6db9271560ef",
   "metadata": {},
   "source": [
    "# Model Building\n",
    "Split data into a 20% test set and 80% training set.\\\n",
    "Need to set a seed to get reproducible."
   ]
  },
  {
   "cell_type": "code",
   "execution_count": 44,
   "id": "e7abd512-116f-455c-a7ef-9f143c75662d",
   "metadata": {},
   "outputs": [],
   "source": [
    "X = df_new.drop('quality', axis = 1)\n",
    "y = df_new['quality']\n",
    "random.seed(7)\n",
    "X_train, X_test, y_train, y_test = train_test_split(X, y, test_size = 0.2, random_state = 2)"
   ]
  },
  {
   "cell_type": "code",
   "execution_count": 45,
   "id": "20bd2b81-f04e-4421-9edd-aeb0d6eb5a9b",
   "metadata": {},
   "outputs": [
    {
     "name": "stdout",
     "output_type": "stream",
     "text": [
      "(1555, 11) (1244, 11)\n"
     ]
    }
   ],
   "source": [
    "print(X.shape, X_train.shape)"
   ]
  },
  {
   "cell_type": "markdown",
   "id": "c83ac2f4-b5db-48d2-9721-77b2e023032d",
   "metadata": {},
   "source": [
    "## Random Forest\n",
    "First lets try a Random Forest model. \\\n",
    "We will do this using a default 5-fold cross-validation for tuning the hyperparameters and then evaluating using R^2 score."
   ]
  },
  {
   "cell_type": "code",
   "execution_count": 50,
   "id": "245260c6-8d89-4a02-8c0d-1810abe123c8",
   "metadata": {},
   "outputs": [
    {
     "name": "stdout",
     "output_type": "stream",
     "text": [
      "Fitting 5 folds for each of 20 candidates, totalling 100 fits\n"
     ]
    },
    {
     "data": {
      "text/plain": [
       "0.8456591639871383"
      ]
     },
     "execution_count": 50,
     "metadata": {},
     "output_type": "execute_result"
    }
   ],
   "source": [
    "random.seed(7)\n",
    "param_grid = {'bootstrap': [True, False],\n",
    " 'max_depth': [10, 20, 30, 40, 50, 60, 70, 80, 90, 100, None],\n",
    " 'max_features': ['auto', 'sqrt'],\n",
    " 'min_samples_leaf': [1, 2, 4],\n",
    " 'min_samples_split': [2, 5, 10],\n",
    " 'n_estimators': [200, 400, 600, 800, 1000, 1200, 1400, 1600, 1800, 2000]}\n",
    "rf = RandomizedSearchCV(estimator = RandomForestClassifier(),\n",
    "                param_distributions = param_grid,\n",
    "                refit = True,\n",
    "                verbose = 3,\n",
    "                n_jobs = -1,\n",
    "                n_iter = 20)\n",
    "rf.fit(X_train, y_train)\n",
    "rf.score(X_test, y_test)"
   ]
  },
  {
   "cell_type": "markdown",
   "id": "ffa5445d-bd59-414c-9ba7-bd31c1cfb220",
   "metadata": {},
   "source": [
    "A R^2 score of 0.84 means that our model can explain 84% of the variation in the data.\n",
    "### Feature Importance"
   ]
  },
  {
   "cell_type": "code",
   "execution_count": 76,
   "id": "9fa5132c-13c0-416e-b8b0-c91e8b512f12",
   "metadata": {},
   "outputs": [
    {
     "data": {
      "text/plain": [
       "Text(0, 0.5, 'Feature Names')"
      ]
     },
     "execution_count": 76,
     "metadata": {},
     "output_type": "execute_result"
    },
    {
     "data": {
      "image/png": "[encoded data removed]",
      "text/plain": [
       "<Figure size 432x288 with 1 Axes>"
      ]
     },
     "metadata": {
      "needs_background": "light"
     },
     "output_type": "display_data"
    }
   ],
   "source": [
    "data = {'feature_names':X_train.columns,\n",
    "       'feature_importance': rf.best_estimator_.feature_importances_}\n",
    "fi_df = pd.DataFrame(data)\n",
    "fi_df.sort_values(by = ['feature_importance'], ascending = False, inplace = True)\n",
    "sns.barplot(x = fi_df['feature_importance'], y = fi_df['feature_names']).set_title(\"Random Forest Feature Importance\")\n",
    "plt.xlabel(\"Feature Importance\")\n",
    "plt.ylabel(\"Feature Names\")"
   ]
  },
  {
   "cell_type": "markdown",
   "id": "10344f73-8f87-4876-809c-ee8d3731fde7",
   "metadata": {},
   "source": [
    "As expected, alcohol was the most important feature for predicting the quality. However, sulphates was the second most important feature and not volatile acidity."
   ]
  },
  {
   "cell_type": "markdown",
   "id": "1f8965d2-4948-4498-882f-14c54448dabd",
   "metadata": {},
   "source": [
    "## XGBoost\n",
    "Now lets try xgboost \\\n",
    "First we have to convert our dataframes into Dmatrices"
   ]
  },
  {
   "cell_type": "code",
   "execution_count": 51,
   "id": "b05104bb-0f7b-4548-a564-a782dd4e45ae",
   "metadata": {},
   "outputs": [],
   "source": [
    "train = xgb.DMatrix(X_train, label=y_train)\n",
    "test = xgb.DMatrix(X_test, label=y_test)"
   ]
  },
  {
   "cell_type": "markdown",
   "id": "baffb094-fc75-416e-8698-a6652cefcbbb",
   "metadata": {},
   "source": [
    "Now lets set our hyperparameters"
   ]
  },
  {
   "cell_type": "code",
   "execution_count": 52,
   "id": "b3fe1bfa-3686-4e47-b18f-63d1c39dce3a",
   "metadata": {},
   "outputs": [],
   "source": [
    "param_grid = {\n",
    "    'max_depth': 8,\n",
    "    'eta': 0.15,\n",
    "    'objective': 'multi:softmax',\n",
    "    'num_class': 2\n",
    "}\n",
    "epochs = 100"
   ]
  },
  {
   "cell_type": "code",
   "execution_count": 53,
   "id": "a4b3a365-56ec-4bf6-a79e-7b16535e9f02",
   "metadata": {},
   "outputs": [
    {
     "name": "stdout",
     "output_type": "stream",
     "text": [
      "[10:52:22] WARNING: C:/Users/Administrator/workspace/xgboost-win64_release_1.4.0/src/learner.cc:1095: Starting in XGBoost 1.3.0, the default evaluation metric used with the objective 'multi:softmax' was changed from 'merror' to 'mlogloss'. Explicitly set eval_metric if you'd like to restore the old behavior.\n"
     ]
    }
   ],
   "source": [
    "xgb_model = xgb.train(params, train, epochs)"
   ]
  },
  {
   "cell_type": "code",
   "execution_count": 54,
   "id": "13588008-c28b-4a5e-bed5-baf65cb4817c",
   "metadata": {},
   "outputs": [],
   "source": [
    "pred = xgb_model.predict(test)"
   ]
  },
  {
   "cell_type": "code",
   "execution_count": 55,
   "id": "620470dc-9e93-4bed-9c44-49b91bea955d",
   "metadata": {},
   "outputs": [
    {
     "data": {
      "text/plain": [
       "0.8327974276527331"
      ]
     },
     "execution_count": 55,
     "metadata": {},
     "output_type": "execute_result"
    }
   ],
   "source": [
    "accuracy_score(y_test, pred)"
   ]
  },
  {
   "cell_type": "markdown",
   "id": "bc67d207-b12a-4915-bc65-67b7afa4a0b7",
   "metadata": {},
   "source": [
    "Score of 0.83 means that our model can explain 83% of the variance of the data.\n",
    "### Feature Importance\n",
    "Now we plot the feature importance. \\\n",
    "XGBoost has function for this but it doesn't plot the GINI which is what we used for the RandomForest model.  \n",
    "So we will make the plot ourselves."
   ]
  },
  {
   "cell_type": "code",
   "execution_count": 99,
   "id": "b7e71a3a-e5a7-4d69-b66e-de4e080c90c1",
   "metadata": {},
   "outputs": [
    {
     "data": {
      "text/plain": [
       "Text(0, 0.5, 'Feature Names')"
      ]
     },
     "execution_count": 99,
     "metadata": {},
     "output_type": "execute_result"
    },
    {
     "data": {
      "image/png": "[encoded data removed]",
      "text/plain": [
       "<Figure size 432x288 with 1 Axes>"
      ]
     },
     "metadata": {
      "needs_background": "light"
     },
     "output_type": "display_data"
    }
   ],
   "source": [
    "xfi_df = pd.DataFrame(xgb_model.get_score(importance_type='gain'), index = [0]).transpose()\n",
    "xfi_df.sort_values(by = 0, ascending = False, inplace = True)\n",
    "xfi_df[0] = xfi_df[0].div(xfi_df[0].sum())\n",
    "sns.barplot(y = xfi_df.index, x = xfi_df[0]).set_title(\"XGBoost Feature Importance\")\n",
    "plt.xlabel(\"Feature Importance\")\n",
    "plt.ylabel(\"Feature Names\")"
   ]
  },
  {
   "cell_type": "markdown",
   "id": "5b4a282e-2734-4fba-ae51-40275be49926",
   "metadata": {},
   "source": [
    "Comparing the 2 models we can see that RandomForest just barely beats Random Forest in R^2 score. \\\n",
    "We also see that both models have very similar feature importances which is to be expected since both models are tree based."
   ]
  },
  {
   "cell_type": "code",
   "execution_count": null,
   "id": "103a8a82-f800-4ad4-b320-a8f661ddc016",
   "metadata": {},
   "outputs": [],
   "source": []
  }
 ],
 "metadata": {
  "kernelspec": {
   "display_name": "Python 3",
   "language": "python",
   "name": "python3"
  },
  "language_info": {
   "codemirror_mode": {
    "name": "ipython",
    "version": 3
   },
   "file_extension": ".py",
   "mimetype": "text/x-python",
   "name": "python",
   "nbconvert_exporter": "python",
   "pygments_lexer": "ipython3",
   "version": "3.8.8"
  }
 },
 "nbformat": 4,
 "nbformat_minor": 5
}
